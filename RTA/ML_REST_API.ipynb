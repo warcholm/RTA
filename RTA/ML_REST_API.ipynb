{
 "cells": [
  {
   "cell_type": "code",
   "execution_count": 1,
   "id": "44986a85-6404-4306-9736-1e905d8faa71",
   "metadata": {
    "tags": []
   },
   "outputs": [
    {
     "name": "stdout",
     "output_type": "stream",
     "text": [
      "Overwriting perceptron.py\n"
     ]
    }
   ],
   "source": [
    "%%file perceptron.py\n",
    "import pickle\n",
    "import numpy as np\n",
    "\n",
    "class Perceptron():\n",
    "    \n",
    "    def __init__(self, eta=0.01, n_iter=10):\n",
    "        self.eta = eta\n",
    "        self.n_iter = n_iter\n",
    "    \n",
    "    def fit(self, X, y):\n",
    "        self.w_ = np.random.uniform(-1.0, 1.0, 1 + X.shape[1]) \n",
    "        self.errors_ = []\n",
    "        \n",
    "        for _ in range(self.n_iter):\n",
    "            errors = 0\n",
    "            for xi, target in zip(X, y):\n",
    "                update = self.eta * (target - self.predict(xi))\n",
    "                self.w_[1:] += update * xi\n",
    "                self.w_[0] += update\n",
    "                errors += int(update != 0.0)\n",
    "            self.errors_.append(errors)\n",
    "        return self\n",
    "    \n",
    "    def net_input(self, X):\n",
    "        return np.dot(X, self.w_[1:]) + self.w_[0]\n",
    "    \n",
    "    def predict(self, X):\n",
    "        return np.where(self.net_input(X) >= 0.0, 1, -1)\n",
    "\n",
    "    \n",
    "X_train = np.array([[0, 0], [1, 1]])\n",
    "y_train = np.array([0, 1])\n",
    "model = Perceptron()\n",
    "model.fit(X_train, y_train)\n",
    "\n",
    "with open('perceptron.pkl', 'wb') as f:\n",
    "    pickle.dump(model, f)"
   ]
  },
  {
   "cell_type": "code",
   "execution_count": 2,
   "id": "e0f29886-c943-4a67-ac47-920381bbceea",
   "metadata": {
    "tags": []
   },
   "outputs": [
    {
     "name": "stdout",
     "output_type": "stream",
     "text": [
      "Overwriting app.py\n"
     ]
    }
   ],
   "source": [
    "%%file app.py\n",
    "\n",
    "from flask import Flask, request, jsonify\n",
    "import pickle\n",
    "import numpy as np\n",
    "from perceptron import Perceptron\n",
    "\n",
    "\n",
    "\n",
    "app = Flask(__name__)\n",
    "\n",
    "@app.route('/predict_get', methods=['GET'])\n",
    "def get_prediction():\n",
    "    sepal_length = float(request.args.get('sl'))\n",
    "    petal_length = float(request.args.get('pl'))\n",
    "    \n",
    "    features = np.array([sepal_length, petal_length])\n",
    "\n",
    "    with open('perceptron.pkl', 'rb') as picklefile:\n",
    "        model = pickle.load(picklefile)\n",
    "        \n",
    "    predicted_class = int(model.predict(features))\n",
    "    \n",
    "    return jsonify(features=features.tolist(), predicted_class=predicted_class)\n",
    "\n",
    "@app.route('/predict_post', methods=['POST'])\n",
    "def post_predict():\n",
    "    data = request.get_json(force=True)\n",
    "    sepal_length = float(data.get('sl'))\n",
    "    petal_length = float(data.get('pl'))\n",
    "    \n",
    "    features = np.array([sepal_length, petal_length])\n",
    "\n",
    "    with open('perceptron.pkl', 'rb') as picklefile:\n",
    "        model = pickle.load(picklefile)\n",
    "        \n",
    "    predicted_class = int(model.predict(features))\n",
    "    output = dict(features=features.tolist(), predicted_class=predicted_class)\n",
    "    return jsonify(output)\n",
    "\n",
    "if __name__ == '__main__':\n",
    "    app.run(host='0.0.0.0', port=5000)\n"
   ]
  },
  {
   "cell_type": "code",
   "execution_count": 3,
   "id": "8820fa60-9d03-4a66-9398-c9629b4c136a",
   "metadata": {
    "tags": []
   },
   "outputs": [
    {
     "name": "stdout",
     "output_type": "stream",
     "text": [
      "Overwriting Dockerfile\n"
     ]
    }
   ],
   "source": [
    "%%file Dockerfile\n",
    "FROM python:3.11-slim-buster\n",
    "\n",
    "WORKDIR /app\n",
    "\n",
    "COPY requirements.txt ./\n",
    "COPY app.py perceptron.pkl perceptron.py ./\n",
    "\n",
    "RUN pip install -r requirements.txt\n",
    "\n",
    "ENV FLASK_APP=app\n",
    "\n",
    "EXPOSE 5000\n",
    "CMD [\"flask\", \"run\", \"--host\", \"0.0.0.0\", \"--port\", \"5000\"]"
   ]
  },
  {
   "cell_type": "code",
   "execution_count": 7,
   "id": "6fdb45cb-6d05-4fc9-a157-43391300ea09",
   "metadata": {
    "tags": []
   },
   "outputs": [
    {
     "name": "stdout",
     "output_type": "stream",
     "text": [
      "Overwriting requirements.txt\n"
     ]
    }
   ],
   "source": [
    "%%file requirements.txt\n",
    "Flask\n",
    "numpy"
   ]
  },
  {
   "cell_type": "code",
   "execution_count": 11,
   "id": "61f4c669-7592-4918-b2a4-f64ff9f5d1c1",
   "metadata": {
    "tags": []
   },
   "outputs": [
    {
     "name": "stdout",
     "output_type": "stream",
     "text": [
      "b'{\"features\":[6.3,2.6],\"predicted_class\":-1}\\n'\n",
      "b'{\"features\":[2.4,2.6],\"predicted_class\":-1}\\n'\n"
     ]
    }
   ],
   "source": [
    "import requests\n",
    "response = requests.get(\"http://127.0.0.1:5000/predict_get?sl=6.3&pl=2.6\")\n",
    "print(response.content)\n",
    "json = {\"sl\":2.4, \"pl\":2.6}\n",
    "response = requests.post(\"http://127.0.0.1:5000/predict_post\", json=json)\n",
    "print(response.content)"
   ]
  },
  {
   "cell_type": "code",
   "execution_count": null,
   "id": "faf5c534-fc6e-4c60-b3e5-3424fe42274a",
   "metadata": {},
   "outputs": [],
   "source": []
  }
 ],
 "metadata": {
  "kernelspec": {
   "display_name": "Python 3 (ipykernel)",
   "language": "python",
   "name": "python3"
  },
  "language_info": {
   "codemirror_mode": {
    "name": "ipython",
    "version": 3
   },
   "file_extension": ".py",
   "mimetype": "text/x-python",
   "name": "python",
   "nbconvert_exporter": "python",
   "pygments_lexer": "ipython3",
   "version": "3.11.5"
  }
 },
 "nbformat": 4,
 "nbformat_minor": 5
}
